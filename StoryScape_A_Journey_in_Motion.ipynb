{
  "nbformat": 4,
  "nbformat_minor": 0,
  "metadata": {
    "colab": {
      "provenance": [],
      "gpuType": "T4",
      "authorship_tag": "ABX9TyOWGzxAKj7EKQ5oj9uecDen",
      "include_colab_link": true
    },
    "kernelspec": {
      "name": "python3",
      "display_name": "Python 3"
    },
    "language_info": {
      "name": "python"
    },
    "accelerator": "GPU",
  "cells": [
    {
      "cell_type": "markdown",
      "metadata": {
        "id": "view-in-github",
        "colab_type": "text"
      },
      "source": [
        "<a href=\"https://colab.research.google.com/github/RashidNoor42/AI-Story-to-Video-Generator-using-Hugging-Face-Models/blob/main/StoryScape_A_Journey_in_Motion.ipynb\" target=\"_parent\"><img src=\"https://colab.research.google.com/assets/colab-badge.svg\" alt=\"Open In Colab\"/></a>"
      ]
    },
    {
      "cell_type": "code",
      "execution_count": null,
      "metadata": {
        "id": "Ffy2Jv19lXNd"
      },
      "outputs": [],
      "source": [
        "\"\"\"\n",
        "AI Video Generator - Creates videos from AI-generated stories\n",
        "\n",
        "INSTALLATION REQUIREMENTS:\n",
        "pip install torch transformers diffusers torchaudio moviepy pillow numpy gtts\n",
        "\n",
        "For better TTS (optional):\n",
        "- Ubuntu/Debian: sudo apt-get install espeak espeak-data\n",
        "- macOS: brew install espeak\n",
        "- Windows: Download from http://espeak.sourceforge.net/\n",
        "\n",
        "Then: pip install pyttsx3\n",
        "\"\"\"\n",
        "# Import necessary libraries\n",
        "from huggingface_hub import login\n",
        "from transformers import GPT2LMHeadModel, GPT2Tokenizer, pipeline\n",
        "from diffusers import StableDiffusionPipeline\n",
        "from transformers import pipeline\n",
        "from PIL import Image\n",
        "import requests\n",
        "from io import BytesIO\n",
        "import moviepy.editor as mpy\n",
        "import torchaudio\n",
        "from speechbrain.lobes.models.FastSpeech2 import FastSpeech2\n",
        "from transformers import GPT2LMHeadModel, GPT2Tokenizer\n",
        "from speechbrain.lobes.models.FastSpeech2 import mel_spectogram\n",
        "from speechbrain.inference.vocoders import HIFIGAN\n",
        "import moviepy.editor as mpy\n",
        "\n",
        "import torchaudio\n",
        "from transformers import GPT2LMHeadModel, GPT2Tokenizer\n",
        "from diffusers import StableDiffusionPipeline\n",
        "import torch\n",
        "import moviepy.editor as mpy\n",
        "from PIL import Image\n",
        "import numpy as np\n",
        "import os\n",
        "\n",
        "# For TTS, we'll use multiple fallback options\n",
        "TTS_METHOD = None\n",
        "TTS_AVAILABLE = False\n",
        "# Step 1: Authenticate with Hugging Face\n",
        "login(token=\"HUGGING_FACE_TOKEN\")  # Using your Hugging Face token"
      ]
    },
    {
      "cell_type": "code",
      "source": [
        "\n",
        "\n",
        "# Try gTTS first (more reliable)\n",
        "try:\n",
        "    from gtts import gTTS\n",
        "    TTS_METHOD = \"gtts\"\n",
        "    TTS_AVAILABLE = True\n",
        "    print(\"Using gTTS for text-to-speech\")\n",
        "except ImportError:\n",
        "    try:\n",
        "        import pyttsx3\n",
        "        TTS_METHOD = \"pyttsx3\"\n",
        "        TTS_AVAILABLE = True\n",
        "        print(\"Using pyttsx3 for text-to-speech\")\n",
        "    except ImportError:\n",
        "        print(\"Warning: No TTS library available. Install gtts or pyttsx3\")\n",
        "        TTS_AVAILABLE = False\n",
        "\n",
        "# Load GPT2 for text generation\n",
        "def load_gpt2():\n",
        "    tokenizer = GPT2Tokenizer.from_pretrained('gpt2')\n",
        "    model = GPT2LMHeadModel.from_pretrained('gpt2')\n",
        "    # Set pad_token to eos_token to avoid warnings\n",
        "    tokenizer.pad_token = tokenizer.eos_token\n",
        "    return tokenizer, model\n",
        "\n",
        "def generate_text(prompt, tokenizer, model, max_length=200):\n",
        "    inputs = tokenizer.encode(prompt, return_tensors=\"pt\", truncation=True, max_length=512)\n",
        "\n",
        "    # Set attention mask\n",
        "    attention_mask = torch.ones(inputs.shape, dtype=torch.long)\n",
        "\n",
        "    with torch.no_grad():\n",
        "        outputs = model.generate(\n",
        "            inputs,\n",
        "            attention_mask=attention_mask,\n",
        "            max_length=max_length,\n",
        "            num_return_sequences=1,\n",
        "            no_repeat_ngram_size=2,\n",
        "            do_sample=True,\n",
        "            temperature=0.8,\n",
        "            pad_token_id=tokenizer.eos_token_id\n",
        "        )\n",
        "\n",
        "    text = tokenizer.decode(outputs[0], skip_special_tokens=True)\n",
        "    return text\n",
        "\n",
        "# Image Generation: Use Stable Diffusion\n",
        "def load_stable_diffusion():\n",
        "    try:\n",
        "        stable_diff_pipe = StableDiffusionPipeline.from_pretrained(\"runwayml/stable-diffusion-v1-5\")\n",
        "        if torch.cuda.is_available():\n",
        "            stable_diff_pipe.to(\"cuda\")\n",
        "        return stable_diff_pipe\n",
        "    except Exception as e:\n",
        "        print(f\"Error loading Stable Diffusion: {e}\")\n",
        "        print(\"Using placeholder images instead\")\n",
        "        return None\n",
        "\n",
        "def generate_image_from_text(text_prompt, stable_diff_pipe):\n",
        "    if stable_diff_pipe is None:\n",
        "        # Create a placeholder image if Stable Diffusion is not available\n",
        "        img = Image.new('RGB', (512, 512), color=(np.random.randint(0, 255),\n",
        "                                                  np.random.randint(0, 255),\n",
        "                                                  np.random.randint(0, 255)))\n",
        "        return img\n",
        "\n",
        "    try:\n",
        "        image = stable_diff_pipe(text_prompt).images[0]\n",
        "        return image\n",
        "    except Exception as e:\n",
        "        print(f\"Error generating image: {e}\")\n",
        "        # Return placeholder image\n",
        "        img = Image.new('RGB', (512, 512), color=(128, 128, 128))\n",
        "        return img\n",
        "\n",
        "# TTS: Using multiple fallback approaches\n",
        "def generate_audio_from_text(text, filename=\"audio.wav\"):\n",
        "    if not TTS_AVAILABLE:\n",
        "        print(\"TTS not available. Creating silent video.\")\n",
        "        return False\n",
        "\n",
        "    try:\n",
        "        if TTS_METHOD == \"gtts\":\n",
        "            # Using gTTS (Google Text-to-Speech) - more reliable\n",
        "            from gtts import gTTS\n",
        "            import io\n",
        "            # Truncate text if too long for gTTS\n",
        "            if len(text) > 1000:\n",
        "                text = text[:1000] + \"...\"\n",
        "            tts = gTTS(text=text, lang='en', slow=False)\n",
        "            tts.save(filename)\n",
        "\n",
        "        elif TTS_METHOD == \"pyttsx3\":\n",
        "            # Using pyttsx3 - requires eSpeak installation\n",
        "            import pyttsx3\n",
        "            engine = pyttsx3.init()\n",
        "            # Try to set properties to avoid errors\n",
        "            try:\n",
        "                engine.setProperty('rate', 150)    # Speed of speech\n",
        "                engine.setProperty('volume', 0.9)  # Volume level (0.0 to 1.0)\n",
        "            except:\n",
        "                pass\n",
        "            engine.save_to_file(text, filename)\n",
        "            engine.runAndWait()\n",
        "\n",
        "        # Verify file was created\n",
        "        if os.path.exists(filename) and os.path.getsize(filename) > 0:\n",
        "            print(f\"Audio saved as {filename}\")\n",
        "            return True\n",
        "        else:\n",
        "            print(\"Audio file was not created successfully\")\n",
        "            return False\n",
        "\n",
        "    except Exception as e:\n",
        "        print(f\"Error generating audio: {e}\")\n",
        "        print(\"Continuing without audio...\")\n",
        "        return False\n",
        "\n",
        "# Create a better story prompt\n",
        "def create_better_story(tokenizer, model):\n",
        "    story_prompt = \"Once upon a time, in a mystical kingdom, there lived a brave knight named Sir Arthur. One day, he embarked on a dangerous quest to\"\n",
        "    story = generate_text(story_prompt, tokenizer, model, max_length=300)\n",
        "\n",
        "    # Clean up the story by taking only the part that makes sense\n",
        "    sentences = story.split('.')\n",
        "    clean_sentences = []\n",
        "    for sentence in sentences[:8]:  # Take first 8 sentences\n",
        "        if len(sentence.strip()) > 10:  # Only include meaningful sentences\n",
        "            clean_sentences.append(sentence.strip())\n",
        "\n",
        "    return '. '.join(clean_sentences) + '.'\n",
        "\n",
        "# Create dynamic prompts based on the story\n",
        "def create_dynamic_prompts(story):\n",
        "    prompts = []\n",
        "    sentences = story.split('.')\n",
        "\n",
        "    # Create more descriptive prompts\n",
        "    base_prompts = [\n",
        "        \"A brave medieval knight in shining armor standing in a castle courtyard\",\n",
        "        \"A mystical fantasy kingdom with mountains and forests in the background\",\n",
        "        \"A knight on horseback riding through an enchanted forest\",\n",
        "        \"A dark cave entrance with mysterious glowing crystals\",\n",
        "        \"A knight facing a fierce dragon in an epic battle\",\n",
        "        \"A triumphant knight returning to his castle at sunset\"\n",
        "    ]\n",
        "\n",
        "    # If we have story sentences, try to incorporate them\n",
        "    for i, sentence in enumerate(sentences[:6]):\n",
        "        if len(sentence.strip()) > 5:\n",
        "            prompt = f\"Fantasy art style: {sentence.strip()}, medieval setting, cinematic lighting\"\n",
        "            prompts.append(prompt)\n",
        "        elif i < len(base_prompts):\n",
        "            prompts.append(base_prompts[i])\n",
        "\n",
        "    # Fill remaining slots with base prompts if needed\n",
        "    while len(prompts) < 6:\n",
        "        prompts.append(base_prompts[len(prompts)])\n",
        "\n",
        "    return prompts[:6]  # Return exactly 6 prompts\n",
        "\n",
        "# Create video from images and audio\n",
        "def create_video(images, audio_filename, output_filename=\"output_video.mp4\"):\n",
        "    try:\n",
        "        clips = []\n",
        "\n",
        "        # Save images temporarily and create clips\n",
        "        temp_image_files = []\n",
        "        for i, img in enumerate(images):\n",
        "            temp_filename = f\"temp_img_{i}.png\"\n",
        "            img.save(temp_filename)\n",
        "            temp_image_files.append(temp_filename)\n",
        "\n",
        "            img_clip = mpy.ImageClip(temp_filename)\n",
        "            img_clip = img_clip.set_duration(5)  # Each image for 5 seconds\n",
        "            clips.append(img_clip)\n",
        "\n",
        "        # Concatenate all image clips\n",
        "        print(\"Creating video sequence...\")\n",
        "        video = mpy.concatenate_videoclips(clips, method=\"compose\")\n",
        "\n",
        "        # Add audio if available\n",
        "        if audio_filename and os.path.exists(audio_filename) and os.path.getsize(audio_filename) > 0:\n",
        "            try:\n",
        "                print(\"Adding audio to video...\")\n",
        "                audio = mpy.AudioFileClip(audio_filename)\n",
        "                # Match video length to audio or vice versa\n",
        "                video_duration = min(30, video.duration)\n",
        "                if audio.duration > video_duration:\n",
        "                    audio = audio.subclip(0, video_duration)\n",
        "                elif video.duration > audio.duration:\n",
        "                    video = video.subclip(0, audio.duration)\n",
        "                video = video.set_audio(audio)\n",
        "                print(\"Audio added successfully\")\n",
        "            except Exception as e:\n",
        "                print(f\"Error adding audio: {e}\")\n",
        "                print(\"Creating video without audio...\")\n",
        "        else:\n",
        "            print(\"No audio file available, creating silent video...\")\n",
        "\n",
        "        # Ensure video doesn't exceed 30 seconds\n",
        "        if video.duration > 30:\n",
        "            video = video.subclip(0, 30)\n",
        "\n",
        "        # Write video file with more error handling\n",
        "        print(f\"Writing video file: {output_filename}\")\n",
        "        video.write_videofile(\n",
        "            output_filename,\n",
        "            fps=24,\n",
        "            verbose=False,\n",
        "            logger=None,\n",
        "            audio_codec='aac' if video.audio else None\n",
        "        )\n",
        "\n",
        "        # Clean up temporary files\n",
        "        for temp_file in temp_image_files:\n",
        "            try:\n",
        "                if os.path.exists(temp_file):\n",
        "                    os.remove(temp_file)\n",
        "            except:\n",
        "                pass\n",
        "\n",
        "        print(f\"Video created successfully: {output_filename}\")\n",
        "        return True\n",
        "\n",
        "    except Exception as e:\n",
        "        print(f\"Error creating video: {e}\")\n",
        "        # Try to clean up temp files even if video creation failed\n",
        "        try:\n",
        "            for temp_file in temp_image_files:\n",
        "                if os.path.exists(temp_file):\n",
        "                    os.remove(temp_file)\n",
        "        except:\n",
        "            pass\n",
        "        return False\n",
        "\n",
        "# Main execution\n",
        "def main():\n",
        "    print(\"Loading models...\")\n",
        "\n",
        "    # Load GPT-2 for text generation\n",
        "    tokenizer, model = load_gpt2()\n",
        "\n",
        "    # Generate story\n",
        "    print(\"Generating story...\")\n",
        "    story = create_better_story(tokenizer, model)\n",
        "    print(\"Generated Story:\")\n",
        "    print(story)\n",
        "    print(\"\\n\" + \"=\"*50 + \"\\n\")\n",
        "\n",
        "    # Create dynamic prompts\n",
        "    prompts = create_dynamic_prompts(story)\n",
        "    print(\"Generated Prompts for Image Generation:\")\n",
        "    for i, prompt in enumerate(prompts, 1):\n",
        "        print(f\"{i}. {prompt}\")\n",
        "    print(\"\\n\" + \"=\"*50 + \"\\n\")\n",
        "\n",
        "    # Load Stable Diffusion\n",
        "    print(\"Loading Stable Diffusion...\")\n",
        "    stable_diff_pipe = load_stable_diffusion()\n",
        "\n",
        "    # Generate images\n",
        "    print(\"Generating images...\")\n",
        "    images = []\n",
        "    for i, prompt in enumerate(prompts):\n",
        "        print(f\"Generating image {i+1}/6...\")\n",
        "        image = generate_image_from_text(prompt, stable_diff_pipe)\n",
        "        images.append(image)\n",
        "\n",
        "    # Generate audio\n",
        "    print(\"Generating audio...\")\n",
        "    audio_filename = \"story_audio.wav\"\n",
        "    audio_success = generate_audio_from_text(story, audio_filename)\n",
        "\n",
        "    # Create video (with or without audio)\n",
        "    print(\"Creating video...\")\n",
        "    video_success = create_video(images, audio_filename if audio_success else None)\n",
        "\n",
        "    if video_success:\n",
        "        print(\"Process completed successfully!\")\n",
        "    else:\n",
        "        print(\"Process completed with errors. Check the output above.\")\n",
        "\n",
        "if __name__ == \"__main__\":\n",
        "    main()"
      ],
      "metadata": {
        "colab": {
          "base_uri": "https://localhost:8080/",
          "height": 981,
          "referenced_widgets": [
            "38b95f395084481fb09a5e42daa98f4b",
            "e61e0852392d4c8c8ce9c00ad8b5a8d5",
            "36902387bd7f478d9f81b41608abf4ea",
            "e8219edb4eb24bedb9e242c690d528e3",
            "57b1f2aceee447c59c2af55e0cbb626a",
            "4855dec5256b427d8a1dd2656624c3b5",
            "ffe029a45d81433d8460899997825faa",
            "103d7aad54684888a0e09bc9af7a987d",
            "5badece02cdf4ed185e703caff028e69",
            "f735b73c67f34b42a2718317bc469617",
            "8de27f9d8c0c43bf80b27f9f323b0df1",
            "8c5af4d3c7b1428b911bbac404a0a97b",
            "d115772ab6aa4c298e57b22877d5f62d",
            "6b551f7be37f4e7a8a841b0182b8d846",
            "3dd141c0c1414d8a9af35a66f9463f1b",
            "a9aeca98d0624f6494b2e566bbe3a86d",
            "c2f1e59673b44f14bb3d412d71677bb7",
            "d94014fec7364f00933d08c7764f2dcb",
            "6d58505ed9464cfe8bb3ed29066d90aa",
            "84e687d8b2d9435ea04c0d195bf52fea",
            "cb8074f4b70243efb20db3083c184080",
            "8b88b818fecf45258735481ae007fb3a",
            "e1d310585c564ad9b24a283f45363419",
            "8e10576ff70b4058a9da25b09db9335a",
            "890e7b41ea05424685405db8399c18e0",
            "c7b79d8996bb4d8081b5b277e398de94",
            "527c91abfc8540b2868e527699b5d878",
            "6ff88568d1394f11891bbf9d94391b5a",
            "506d22588faa4ee19ede81ec86e20afc",
            "81d2a50ed0c4469f9f414702d6988fed",
            "69c9a9eee7b5451db3e7c8ac05ddff9e",
            "9055f8761a3b4db9a1784dab6293f8a3",
            "7a3d4431944540048b5ab0680de9dfc1",
            "5ddaf824cf0c433b938830cf898045a5",
            "557c3a794a344b96976f9c4a1f36ac21",
            "a1e8421643bb48b68e2f34b62b9a2726",
            "dc277ab0dc3e475cb337e9c3be1c5f64",
            "d03f604d0c7d408eab584ef119cf885f",
            "d36d845359294cdbb31e9f8a15909315",
            "ec28e459d83f4d12b4a9c095cdf567bf",
            "7919597bcd90402f91d45f2a5e0295e0",
            "9f68355b341b4d92bfd0f122d43a0479",
            "2f6e1d6a04be4ed58e2e061943ba0dd4",
            "a9d1f15fda254e4cba09b1193510bb93",
            "82e3ee31026649f3a794135979b3daab",
            "09e0186d05c3402a84c5356698374dbd",
            "bf96b1b83d5d472cbc0b8aeee3c09866",
            "a7cf6032ac5a4bb790ad79a1e7a59e0d",
            "3e0838d9a2be462db36c29b78d7a1dd7",
            "388f300796a14162965495d35550c027",
            "89cb5d82c7f34ce9b049f236eed1305f",
            "6ec3968bca6846efab921ca63ed83fd2",
            "88cf11494a6d456f84a5c1bd9c86128d",
            "836657f1f4e94edfa59015908a49a2db",
            "a3406e3e755142baabf07b50c8bf2156",
            "2758ae2eaf814a2f8841162d627f7271",
            "35f86d74fb534a22808c25dfb12458a5",
            "1f135fa2481f454697ce2b01e9bf7946",
            "d3a1a7b3aa5045f68fdcfde52639c7dc",
            "47ec15c318a946e18c161e3a6b7d0698",
            "79523d59d4e54342b920429d84389e1b",
            "3f559b9820004e53876fcae1f9ed291d",
            "21ce4a765aa14665bde71571d6383e71",
            "c20877260b384aecb005144a6f875d9d",
            "3e9325fcf640451680bdcd4fb49faf81",
            "254ecdd93ace41ec805d044c33a9448f",
            "c9c0ad27ea474f57a9e91b702adbdf06",
            "56a6d942ca894ad18151b5dbbbdf596e",
            "67341667d5c049d5b052d0995ec620b7",
            "526342d684cc433fa00960536c7817c7",
            "0b697ad0400b4c9eb20f7dcce1458a5f",
            "f68e5c37a55e4d55bc2e1b2e198cdbed",
            "bd564db94a174def89ae8d6f5417bf6a",
            "a4855b55d32242cfb1e3c55397369b90",
            "045755efba5848bdaa8a941e53342191",
            "084bb8a2ff004421b4d1e6f6cfd41ca2",
            "9d4e6f3c5ae94f7c9bead577d7daa595"
          ]
        },
        "id": "b0uf8_btm64f",
        "outputId": "9e566ad1-8ddc-4092-d85c-f8567304994b"
      },
      "execution_count": null,
      "outputs": [
        {
          "output_type": "stream",
          "name": "stdout",
          "text": [
            "Using gTTS for text-to-speech\n",
            "Loading models...\n",
            "Generating story...\n",
            "Generated Story:\n",
            "Once upon a time, in a mystical kingdom, there lived a brave knight named Sir Arthur. One day, he embarked on a dangerous quest to become the father of knights. Now, when he discovers his son has disappeared, Arthur must hunt him down and rescue the stolen son. And while this quest is moving forward and it's going well, it'll have some problems when the kingdom of England is destroyed. Will Sir Merlin be saved and his father's remains buried in his own land? Or will Arthur and Henry take this journey and face the consequences that it will bring?\n",
            "\n",
            "In the new version, the game will be optimized to support all major browsers, and offer a huge array of new features and new content. Even if you're not a fan of Nintendo's recent Mario games, we think you'll find the old version of the games appealing enough to keep you entertained.\n",
            "\n",
            "==================================================\n",
            "\n",
            "Generated Prompts for Image Generation:\n",
            "1. Fantasy art style: Once upon a time, in a mystical kingdom, there lived a brave knight named Sir Arthur, medieval setting, cinematic lighting\n",
            "2. Fantasy art style: One day, he embarked on a dangerous quest to become the father of knights, medieval setting, cinematic lighting\n",
            "3. Fantasy art style: Now, when he discovers his son has disappeared, Arthur must hunt him down and rescue the stolen son, medieval setting, cinematic lighting\n",
            "4. Fantasy art style: And while this quest is moving forward and it's going well, it'll have some problems when the kingdom of England is destroyed, medieval setting, cinematic lighting\n",
            "5. Fantasy art style: Will Sir Merlin be saved and his father's remains buried in his own land? Or will Arthur and Henry take this journey and face the consequences that it will bring?\n",
            "\n",
            "In the new version, the game will be optimized to support all major browsers, and offer a huge array of new features and new content, medieval setting, cinematic lighting\n",
            "6. Fantasy art style: Even if you're not a fan of Nintendo's recent Mario games, we think you'll find the old version of the games appealing enough to keep you entertained, medieval setting, cinematic lighting\n",
            "\n",
            "==================================================\n",
            "\n",
            "Loading Stable Diffusion...\n"
          ]
        },
        {
          "output_type": "display_data",
          "data": {
            "text/plain": [
              "Loading pipeline components...:   0%|          | 0/7 [00:00<?, ?it/s]"
            ],
            "application/vnd.jupyter.widget-view+json": {
              "version_major": 2,
              "version_minor": 0,
              "model_id": "38b95f395084481fb09a5e42daa98f4b"
            }
          },
          "metadata": {}
        },
        {
          "output_type": "stream",
          "name": "stdout",
          "text": [
            "Generating images...\n",
            "Generating image 1/6...\n"
          ]
        },
        {
          "output_type": "display_data",
          "data": {
            "text/plain": [
              "  0%|          | 0/50 [00:00<?, ?it/s]"
            ],
            "application/vnd.jupyter.widget-view+json": {
              "version_major": 2,
              "version_minor": 0,
              "model_id": "8c5af4d3c7b1428b911bbac404a0a97b"
            }
          },
          "metadata": {}
        },
        {
          "output_type": "stream",
          "name": "stdout",
          "text": [
            "Generating image 2/6...\n"
          ]
        },
        {
          "output_type": "display_data",
          "data": {
            "text/plain": [
              "  0%|          | 0/50 [00:00<?, ?it/s]"
            ],
            "application/vnd.jupyter.widget-view+json": {
              "version_major": 2,
              "version_minor": 0,
              "model_id": "e1d310585c564ad9b24a283f45363419"
            }
          },
          "metadata": {}
        },
        {
          "output_type": "stream",
          "name": "stdout",
          "text": [
            "Generating image 3/6...\n"
          ]
        },
        {
          "output_type": "display_data",
          "data": {
            "text/plain": [
              "  0%|          | 0/50 [00:00<?, ?it/s]"
            ],
            "application/vnd.jupyter.widget-view+json": {
              "version_major": 2,
              "version_minor": 0,
              "model_id": "5ddaf824cf0c433b938830cf898045a5"
            }
          },
          "metadata": {}
        },
        {
          "output_type": "stream",
          "name": "stdout",
          "text": [
            "Generating image 4/6...\n"
          ]
        },
        {
          "output_type": "display_data",
          "data": {
            "text/plain": [
              "  0%|          | 0/50 [00:00<?, ?it/s]"
            ],
            "application/vnd.jupyter.widget-view+json": {
              "version_major": 2,
              "version_minor": 0,
              "model_id": "82e3ee31026649f3a794135979b3daab"
            }
          },
          "metadata": {}
        },
        {
          "output_type": "stream",
          "name": "stdout",
          "text": [
            "Generating image 5/6...\n"
          ]
        },
        {
          "output_type": "display_data",
          "data": {
            "text/plain": [
              "  0%|          | 0/50 [00:00<?, ?it/s]"
            ],
            "application/vnd.jupyter.widget-view+json": {
              "version_major": 2,
              "version_minor": 0,
              "model_id": "2758ae2eaf814a2f8841162d627f7271"
            }
          },
          "metadata": {}
        },
        {
          "output_type": "stream",
          "name": "stdout",
          "text": [
            "Generating image 6/6...\n"
          ]
        },
        {
          "output_type": "display_data",
          "data": {
            "text/plain": [
              "  0%|          | 0/50 [00:00<?, ?it/s]"
            ],
            "application/vnd.jupyter.widget-view+json": {
              "version_major": 2,
              "version_minor": 0,
              "model_id": "c9c0ad27ea474f57a9e91b702adbdf06"
            }
          },
          "metadata": {}
        },
        {
          "output_type": "stream",
          "name": "stdout",
          "text": [
            "Generating audio...\n",
            "Audio saved as story_audio.wav\n",
            "Creating video...\n",
            "Creating video sequence...\n",
            "Adding audio to video...\n",
            "Audio added successfully\n",
            "Writing video file: output_video.mp4\n",
            "Video created successfully: output_video.mp4\n",
            "Process completed successfully!\n"
          ]
        }
      ]
    },
    {
      "cell_type": "code",
      "source": [
        "import torch\n",
        "print(torch.cuda.is_available())  # This should return True if GPU is available\n"
      ],
      "metadata": {
        "colab": {
          "base_uri": "https://localhost:8080/"
        },
        "id": "L4Ops-UAsJvp",
        "outputId": "424e9951-164b-485c-8581-4784c1fc061e"
      },
      "execution_count": 3,
      "outputs": [
        {
          "output_type": "stream",
          "name": "stdout",
          "text": [
            "True\n"
          ]
        }
      ]
    },
    {
      "cell_type": "code",
      "source": [
        "# pip install speechbrain\n",
        "\n",
        "# pip install transformers torch\n",
        "\n",
        "# pip install speechbrain transformers torchaudio moviepy diffusers\n",
        "\n",
        "# pip install diffusers torch\n",
        "\n",
        "# pip install torch transformers diffusers torchaudio moviepy pillow numpy\n",
        "\n",
        "\n",
        "# pip install gtts     # Google TTS (requires internet)\n",
        "\n",
        "# pip install pyttsx3"
      ],
      "metadata": {
        "id": "wsEtKIEIWiPo"
      },
      "execution_count": 5,
      "outputs": []
    },
    {
      "cell_type": "code",
      "source": [],
      "metadata": {
        "id": "hE-jSv8ZWpNj"
      },
      "execution_count": 4,
      "outputs": []
    }
  ]
}
